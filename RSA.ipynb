{
 "cells": [
  {
   "cell_type": "markdown",
   "id": "0f64627b",
   "metadata": {},
   "source": [
    "# Homomorphic Encryption with RSA \n",
    "\n",
    "### Reference\n",
    "\n",
    "- [(Youtube)Partially Homomorphic Encryption with RSA in Python From Scratch](https://www.youtube.com/watch?v=PzKch8UQAmQ&list=PLsS_1RYmYQQHy-Hhr3WELOXiEa5vF-UN9&index=2)\n",
    "- [(Youtube)The Math Behind RSA Encryption Algorithm](https://www.youtube.com/watch?v=x5MhtldnTEo)"
   ]
  },
  {
   "cell_type": "code",
   "execution_count": 1,
   "id": "a51f3313",
   "metadata": {},
   "outputs": [],
   "source": [
    "import math"
   ]
  },
  {
   "cell_type": "markdown",
   "id": "4b499a2c",
   "metadata": {},
   "source": [
    "# key generation"
   ]
  },
  {
   "cell_type": "code",
   "execution_count": 2,
   "id": "abed879b",
   "metadata": {},
   "outputs": [],
   "source": [
    "def is_prime(n):\n",
    "    for i in range(2, n):\n",
    "        if n % i == 0:\n",
    "            return False\n",
    "    return True"
   ]
  },
  {
   "cell_type": "code",
   "execution_count": 3,
   "id": "33ef99af",
   "metadata": {},
   "outputs": [],
   "source": [
    "p = 11; q = 13"
   ]
  },
  {
   "cell_type": "code",
   "execution_count": 4,
   "id": "5f9e855b",
   "metadata": {},
   "outputs": [],
   "source": [
    "assert is_prime(p)\n",
    "assert is_prime(q)"
   ]
  },
  {
   "cell_type": "code",
   "execution_count": 5,
   "id": "26cc502b",
   "metadata": {},
   "outputs": [
    {
     "name": "stdout",
     "output_type": "stream",
     "text": [
      "totient(143) = 120\n"
     ]
    }
   ],
   "source": [
    "n = p * q\n",
    "phi = (p-1)*(q-1)\n",
    "print(f\"totient({n}) = {phi}\")"
   ]
  },
  {
   "cell_type": "code",
   "execution_count": 6,
   "id": "ce65a1d9",
   "metadata": {},
   "outputs": [],
   "source": [
    "# private key - pick a random integer\n",
    "e = 7\n",
    "assert math.gcd(e, phi) == 1"
   ]
  },
  {
   "cell_type": "code",
   "execution_count": 7,
   "id": "4ab273c0",
   "metadata": {},
   "outputs": [],
   "source": [
    "d = pow(e, -1, phi)\n",
    "assert (e * d) % phi == 1"
   ]
  },
  {
   "cell_type": "markdown",
   "id": "74352fd5",
   "metadata": {},
   "source": [
    "# encryption"
   ]
  },
  {
   "cell_type": "code",
   "execution_count": 8,
   "id": "02699dae",
   "metadata": {},
   "outputs": [],
   "source": [
    "m = 99"
   ]
  },
  {
   "cell_type": "code",
   "execution_count": 9,
   "id": "503efcbf",
   "metadata": {},
   "outputs": [],
   "source": [
    "# encrypt\n",
    "c = pow(m, e, n)"
   ]
  },
  {
   "cell_type": "code",
   "execution_count": 10,
   "id": "7ce0fa8a",
   "metadata": {},
   "outputs": [
    {
     "data": {
      "text/plain": [
       "44"
      ]
     },
     "execution_count": 10,
     "metadata": {},
     "output_type": "execute_result"
    }
   ],
   "source": [
    "c"
   ]
  },
  {
   "cell_type": "markdown",
   "id": "c2d39f82",
   "metadata": {},
   "source": [
    "# decryption"
   ]
  },
  {
   "cell_type": "code",
   "execution_count": 11,
   "id": "a948e55f",
   "metadata": {},
   "outputs": [],
   "source": [
    "p = pow(c, d, n)"
   ]
  },
  {
   "cell_type": "code",
   "execution_count": 12,
   "id": "9aa76ebd",
   "metadata": {},
   "outputs": [
    {
     "data": {
      "text/plain": [
       "99"
      ]
     },
     "execution_count": 12,
     "metadata": {},
     "output_type": "execute_result"
    }
   ],
   "source": [
    "p"
   ]
  },
  {
   "cell_type": "code",
   "execution_count": 13,
   "id": "4aadd8b4",
   "metadata": {},
   "outputs": [],
   "source": [
    "assert p == m"
   ]
  },
  {
   "cell_type": "markdown",
   "id": "8576dbed",
   "metadata": {},
   "source": [
    "# multiplicative homomorphic features"
   ]
  },
  {
   "cell_type": "code",
   "execution_count": 14,
   "id": "205c2e0c",
   "metadata": {},
   "outputs": [],
   "source": [
    "m1 = 9\n",
    "m2 = 11"
   ]
  },
  {
   "cell_type": "code",
   "execution_count": 15,
   "id": "66135f46",
   "metadata": {},
   "outputs": [],
   "source": [
    "m1_encrypted = pow(m1, e, n)\n",
    "m2_encrypted = pow(m2, e, n)"
   ]
  },
  {
   "cell_type": "code",
   "execution_count": 16,
   "id": "d4e96d4a",
   "metadata": {},
   "outputs": [],
   "source": [
    "assert (m1_encrypted * m2_encrypted) % n == pow(m1*m2, e, n) % n"
   ]
  }
 ],
 "metadata": {
  "kernelspec": {
   "display_name": "Python 3 (ipykernel)",
   "language": "python",
   "name": "python3"
  },
  "language_info": {
   "codemirror_mode": {
    "name": "ipython",
    "version": 3
   },
   "file_extension": ".py",
   "mimetype": "text/x-python",
   "name": "python",
   "nbconvert_exporter": "python",
   "pygments_lexer": "ipython3",
   "version": "3.8.12"
  }
 },
 "nbformat": 4,
 "nbformat_minor": 5
}
