{
 "cells": [
  {
   "cell_type": "markdown",
   "metadata": {},
   "source": [
    "#### Install lightphe python lib\n",
    "\n",
    "\n",
    "https://github.com/serengil/LightPHE"
   ]
  },
  {
   "cell_type": "code",
   "execution_count": 48,
   "metadata": {},
   "outputs": [
    {
     "name": "stdout",
     "output_type": "stream",
     "text": [
      "Requirement already satisfied: lightphe in /Users/jangseokhee/anaconda3/lib/python3.11/site-packages (0.0.6)\n",
      "Requirement already satisfied: sympy==1.12 in /Users/jangseokhee/anaconda3/lib/python3.11/site-packages (from lightphe) (1.12)\n",
      "Requirement already satisfied: pytest==7.1.2 in /Users/jangseokhee/anaconda3/lib/python3.11/site-packages (from lightphe) (7.1.2)\n",
      "Requirement already satisfied: attrs>=19.2.0 in /Users/jangseokhee/anaconda3/lib/python3.11/site-packages (from pytest==7.1.2->lightphe) (23.1.0)\n",
      "Requirement already satisfied: iniconfig in /Users/jangseokhee/anaconda3/lib/python3.11/site-packages (from pytest==7.1.2->lightphe) (1.1.1)\n",
      "Requirement already satisfied: packaging in /Users/jangseokhee/anaconda3/lib/python3.11/site-packages (from pytest==7.1.2->lightphe) (23.2)\n",
      "Requirement already satisfied: pluggy<2.0,>=0.12 in /Users/jangseokhee/anaconda3/lib/python3.11/site-packages (from pytest==7.1.2->lightphe) (1.0.0)\n",
      "Requirement already satisfied: py>=1.8.2 in /Users/jangseokhee/anaconda3/lib/python3.11/site-packages (from pytest==7.1.2->lightphe) (1.11.0)\n",
      "Requirement already satisfied: tomli>=1.0.0 in /Users/jangseokhee/anaconda3/lib/python3.11/site-packages (from pytest==7.1.2->lightphe) (2.0.1)\n",
      "Requirement already satisfied: mpmath>=0.19 in /Users/jangseokhee/anaconda3/lib/python3.11/site-packages (from sympy==1.12->lightphe) (1.3.0)\n"
     ]
    }
   ],
   "source": [
    "!pip install lightphe"
   ]
  },
  {
   "cell_type": "code",
   "execution_count": 49,
   "metadata": {},
   "outputs": [],
   "source": [
    "from lightphe import LightPHE"
   ]
  },
  {
   "cell_type": "markdown",
   "metadata": {},
   "source": [
    "### RSA"
   ]
  },
  {
   "cell_type": "code",
   "execution_count": 50,
   "metadata": {},
   "outputs": [],
   "source": [
    "# build cryptoosystem\n",
    "cs = LightPHE(algorithm_name = \"RSA\")"
   ]
  },
  {
   "cell_type": "code",
   "execution_count": 51,
   "metadata": {},
   "outputs": [
    {
     "data": {
      "text/plain": [
       "{'private_key': {'d': 2638243474082357740665630025333493756313299404867052921070705491749765946316561641146103162963354992955838224859173046674016488561384860889283338308060278746482885026218382680116701838228082615770939641756061684643514126069088791392869580338590587176361577734486642380486974172165146524313924505106037298757},\n",
       " 'public_key': {'n': 4061069891363411801016930704162838030773085078428058935203571929959348891120598618391406303476926883617486074443965469456036517970901445251356102911481831013724913876646249088841920619345809936945606577314610635763117088402981312998369622181132170267320774520388556165545398644879409298732655649100008915989,\n",
       "  'e': 3777731529018048581988418643324217225010536485921629562948060781983041346317006752600160108167076150931449026110632531352305520318628135692467977683622614010979911956373184494918789020380167512714191047290240267493019576760175327766921977460269112469635070352359309891329444908237527214005348450449760769293}}"
      ]
     },
     "execution_count": 51,
     "metadata": {},
     "output_type": "execute_result"
    }
   ],
   "source": [
    "cs.cs.keys"
   ]
  },
  {
   "cell_type": "code",
   "execution_count": 52,
   "metadata": {},
   "outputs": [],
   "source": [
    "m1 = 17\n",
    "m2 = 23"
   ]
  },
  {
   "cell_type": "code",
   "execution_count": 53,
   "metadata": {},
   "outputs": [],
   "source": [
    "c1 = cs.encrypt(plaintext= m1)\n",
    "c2 = cs.encrypt(plaintext= m2)\n"
   ]
  },
  {
   "cell_type": "code",
   "execution_count": 54,
   "metadata": {},
   "outputs": [
    {
     "data": {
      "text/plain": [
       "3097102682096944144448879009770767022689527948467036416451844748436846536624804762872233642559048794311248556417088419818137778499327842425246976489022155417314700785855418089761405544042063903892339734100594820067245870408246133985790269846044765986942483493558304826232864627345440061311810029437855697875"
      ]
     },
     "execution_count": 54,
     "metadata": {},
     "output_type": "execute_result"
    }
   ],
   "source": [
    "c2.value"
   ]
  },
  {
   "cell_type": "code",
   "execution_count": 55,
   "metadata": {},
   "outputs": [],
   "source": [
    "assert cs.decrypt(c1) == m1\n",
    "assert cs.decrypt(c2) == m2"
   ]
  },
  {
   "cell_type": "code",
   "execution_count": 56,
   "metadata": {},
   "outputs": [],
   "source": [
    "assert cs.decrypt(c1 * c2) == m1 * m2"
   ]
  },
  {
   "cell_type": "markdown",
   "metadata": {},
   "source": [
    "## Pail"
   ]
  },
  {
   "cell_type": "code",
   "execution_count": 57,
   "metadata": {},
   "outputs": [
    {
     "data": {
      "text/plain": [
       "{'private_key': {'phi': 105057940748225516489050518376001922549279716019053698485011676124759263729668770464937644817277922676118522158302866403223617658692307630898958210614499169340820672346246493907219958789690990050436471637050057699286730120099225178721953185751307503318206067916153759144348163546533321437529483008839135018288},\n",
       " 'public_key': {'g': 105057940748225516489050518376001922549279716019053698485011676124759263729668770464937644817277922676118522158302866403223617658692307630898958210614499190471025739845243310701337414513044260989435866443248086698342955042480926783353318343470200060398952138150381743204552415251331381387138090331796276466624,\n",
       "  'n': 105057940748225516489050518376001922549279716019053698485011676124759263729668770464937644817277922676118522158302866403223617658692307630898958210614499190471025739845243310701337414513044260989435866443248086698342955042480926783353318343470200060398952138150381743204552415251331381387138090331796276466623}}"
      ]
     },
     "execution_count": 57,
     "metadata": {},
     "output_type": "execute_result"
    }
   ],
   "source": [
    "# build cryptoosystem\n",
    "cs2 = LightPHE(algorithm_name = \"Paillier\")\n",
    "\n",
    "\n",
    "cs2.cs.keys"
   ]
  },
  {
   "cell_type": "code",
   "execution_count": 58,
   "metadata": {},
   "outputs": [],
   "source": [
    "c21 = cs2.encrypt(plaintext= m1)\n",
    "c22 = cs2.encrypt(plaintext= m2)"
   ]
  },
  {
   "cell_type": "code",
   "execution_count": 59,
   "metadata": {},
   "outputs": [],
   "source": [
    "assert cs2.decrypt(c21 + c22) == m1 + m2"
   ]
  },
  {
   "cell_type": "code",
   "execution_count": 60,
   "metadata": {},
   "outputs": [],
   "source": [
    "k = 5 "
   ]
  },
  {
   "cell_type": "code",
   "execution_count": 61,
   "metadata": {},
   "outputs": [],
   "source": [
    "assert cs2.decrypt(c21 * k) == m1 * k"
   ]
  },
  {
   "cell_type": "markdown",
   "metadata": {},
   "source": [
    "### Rengenerate Ciphertexts"
   ]
  },
  {
   "cell_type": "code",
   "execution_count": 62,
   "metadata": {},
   "outputs": [
    {
     "data": {
      "text/plain": [
       "8191621781158931492429745492128765721844837615091743975176676052559762528274043465671511146126848631288280795847673109487816680911976848283797952887965319514619292696262429091259239685529993929670444810369250799162685322904214138217827644187946365747034200556595776881327978934064007090634343711293402479554542303505283970635608742415838124291078278145872388786037292982493723566118084236696606082613619015720189259093474257133329360561303463209973912763260621040512876358808219115851212715506097491959458691194999930589313544798385544209117592396780319394388625751618257963523436686872291337827634507123167113451385"
      ]
     },
     "execution_count": 62,
     "metadata": {},
     "output_type": "execute_result"
    }
   ],
   "source": [
    "c21.value"
   ]
  },
  {
   "cell_type": "code",
   "execution_count": 63,
   "metadata": {},
   "outputs": [],
   "source": [
    "c21_new = cs2.regenerate_ciphertext(c21)"
   ]
  },
  {
   "cell_type": "code",
   "execution_count": 64,
   "metadata": {},
   "outputs": [
    {
     "data": {
      "text/plain": [
       "10416338562284874536488417103778123924152736839548944206161211365474148904768393484027734575471228833345866284623220213705352106514300217377181165747022382935136218907767644267634185237586776303568339033777298956742712398310352155920623959897830158331220977178022339768171813606978669419416518662803915989766444501556306609824529823128915535790732184464689476733151666292603846188676265545137266350122212721390326704518955617339815807247892685152185954865036897896829863514289331609559032858216834502174567726442918220151119182426580112195356204482155478448674973800550404866305476254245294348019071164400610904351776"
      ]
     },
     "execution_count": 64,
     "metadata": {},
     "output_type": "execute_result"
    }
   ],
   "source": [
    "c21_new.value"
   ]
  },
  {
   "cell_type": "code",
   "execution_count": 65,
   "metadata": {},
   "outputs": [
    {
     "data": {
      "text/plain": [
       "17"
      ]
     },
     "execution_count": 65,
     "metadata": {},
     "output_type": "execute_result"
    }
   ],
   "source": [
    "cs2.decrypt(c21)"
   ]
  },
  {
   "cell_type": "code",
   "execution_count": 66,
   "metadata": {},
   "outputs": [
    {
     "data": {
      "text/plain": [
       "17"
      ]
     },
     "execution_count": 66,
     "metadata": {},
     "output_type": "execute_result"
    }
   ],
   "source": [
    "cs2.decrypt(c21_new)"
   ]
  },
  {
   "cell_type": "markdown",
   "metadata": {},
   "source": [
    "## Exclusively Homomorphic"
   ]
  },
  {
   "cell_type": "code",
   "execution_count": 67,
   "metadata": {},
   "outputs": [],
   "source": [
    "cs3 = LightPHE(algorithm_name= \"Goldwasser-Micali\")"
   ]
  },
  {
   "cell_type": "code",
   "execution_count": 68,
   "metadata": {},
   "outputs": [],
   "source": [
    "c31 = cs3.encrypt(plaintext= m1)\n",
    "c32 = cs3.encrypt(plaintext= m2)"
   ]
  },
  {
   "cell_type": "code",
   "execution_count": 71,
   "metadata": {},
   "outputs": [],
   "source": [
    "\n",
    "assert cs3.decrypt(c31 ^ c32) == m1 ^ m2"
   ]
  },
  {
   "cell_type": "code",
   "execution_count": null,
   "metadata": {},
   "outputs": [],
   "source": []
  }
 ],
 "metadata": {
  "kernelspec": {
   "display_name": "Python 3",
   "language": "python",
   "name": "python3"
  },
  "language_info": {
   "codemirror_mode": {
    "name": "ipython",
    "version": 3
   },
   "file_extension": ".py",
   "mimetype": "text/x-python",
   "name": "python",
   "nbconvert_exporter": "python",
   "pygments_lexer": "ipython3",
   "version": "3.11.7"
  }
 },
 "nbformat": 4,
 "nbformat_minor": 2
}
