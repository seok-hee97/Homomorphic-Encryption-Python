{
 "cells": [
  {
   "cell_type": "markdown",
   "id": "3d0b3ab3",
   "metadata": {},
   "source": [
    "# Partially Homomorphic Encryption with ElGamal\n",
    "\n",
    "#### Reference\n",
    "- [Partially Homomorphic Encryption with ElGamal in Python From Scratch](https://www.youtube.com/watch?v=d-gK211N28U&list=PLsS_1RYmYQQHy-Hhr3WELOXiEa5vF-UN9&index=4)"
   ]
  },
  {
   "cell_type": "code",
   "execution_count": 1,
   "id": "9c01470c",
   "metadata": {},
   "outputs": [],
   "source": [
    "import random"
   ]
  },
  {
   "cell_type": "markdown",
   "id": "f2c1c774",
   "metadata": {},
   "source": [
    "# key generation"
   ]
  },
  {
   "cell_type": "code",
   "execution_count": 2,
   "id": "2e74221e",
   "metadata": {},
   "outputs": [],
   "source": [
    "# pick a generator g\n",
    "g = 7 # generator"
   ]
  },
  {
   "cell_type": "code",
   "execution_count": 3,
   "id": "1adb99a8",
   "metadata": {},
   "outputs": [],
   "source": [
    "def is_prime(n):\n",
    "    for i in range(2, n): # [2, n-1]\n",
    "        if n % i == 0:\n",
    "            return False\n",
    "    return True"
   ]
  },
  {
   "cell_type": "code",
   "execution_count": 4,
   "id": "2c8735db",
   "metadata": {},
   "outputs": [],
   "source": [
    "# pick a prime modulus p\n",
    "p = 2083 # prime\n",
    "assert is_prime(p)"
   ]
  },
  {
   "cell_type": "code",
   "execution_count": 5,
   "id": "8b3a1e12",
   "metadata": {},
   "outputs": [],
   "source": [
    "#private key\n",
    "x = 17"
   ]
  },
  {
   "cell_type": "code",
   "execution_count": 6,
   "id": "5e9f44fa",
   "metadata": {},
   "outputs": [],
   "source": [
    "# public key\n",
    "y = pow(g, x, p)"
   ]
  },
  {
   "cell_type": "code",
   "execution_count": 7,
   "id": "6602bd76",
   "metadata": {},
   "outputs": [
    {
     "name": "stdout",
     "output_type": "stream",
     "text": [
      "private key is x=17\n",
      "public key is p=2083, g=7, y=739\n"
     ]
    }
   ],
   "source": [
    "print(f\"private key is x={x}\")\n",
    "print(f\"public key is p={p}, g={g}, y={y}\")"
   ]
  },
  {
   "cell_type": "markdown",
   "id": "2ee46847",
   "metadata": {},
   "source": [
    "# encrypt and decrypt"
   ]
  },
  {
   "cell_type": "code",
   "execution_count": 8,
   "id": "99e7f86f",
   "metadata": {},
   "outputs": [],
   "source": [
    "def encrypt(m, r, exponential = False):\n",
    "    c1 = pow(g, r, p)\n",
    "    if exponential is True:\n",
    "        c2 = (pow(g, m, p) * pow(y, r, p)) % p\n",
    "    else:\n",
    "        c2 = (m * pow(y, r, p)) % p\n",
    "    return c1, c2\n",
    "\n",
    "def decrypt(c1, c2):\n",
    "    return (c2 * pow(c1, -1*x, p)) % p"
   ]
  },
  {
   "cell_type": "code",
   "execution_count": 9,
   "id": "e0839343",
   "metadata": {},
   "outputs": [],
   "source": [
    "m = 100\n",
    "r = random.randint(1, p-1)"
   ]
  },
  {
   "cell_type": "code",
   "execution_count": 10,
   "id": "90b01354",
   "metadata": {},
   "outputs": [],
   "source": [
    "# encryption\n",
    "c1, c2 = encrypt(m, r)"
   ]
  },
  {
   "cell_type": "code",
   "execution_count": 11,
   "id": "c23444ae",
   "metadata": {},
   "outputs": [
    {
     "data": {
      "text/plain": [
       "(498, 1003)"
      ]
     },
     "execution_count": 11,
     "metadata": {},
     "output_type": "execute_result"
    }
   ],
   "source": [
    "c1, c2"
   ]
  },
  {
   "cell_type": "code",
   "execution_count": 12,
   "id": "bb4a25ea",
   "metadata": {},
   "outputs": [
    {
     "data": {
      "text/plain": [
       "100"
      ]
     },
     "execution_count": 12,
     "metadata": {},
     "output_type": "execute_result"
    }
   ],
   "source": [
    "# decryption\n",
    "p = decrypt(c1, c2)\n",
    "p"
   ]
  },
  {
   "cell_type": "code",
   "execution_count": 13,
   "id": "dffbb096",
   "metadata": {},
   "outputs": [],
   "source": [
    "assert m == p"
   ]
  },
  {
   "cell_type": "markdown",
   "id": "dd7aa6ec",
   "metadata": {},
   "source": [
    "# multiplicative homomorphic features"
   ]
  },
  {
   "cell_type": "code",
   "execution_count": 14,
   "id": "e0357178",
   "metadata": {},
   "outputs": [],
   "source": [
    "m1 = 9\n",
    "r1 = random.randint(1, p-1)\n",
    "m1_encrypted = encrypt(m1, r1)\n",
    "\n",
    "m2 = 11\n",
    "r2 = random.randint(1, p-1)\n",
    "m2_encrypted = encrypt(m2, r2)"
   ]
  },
  {
   "cell_type": "code",
   "execution_count": 15,
   "id": "d29c2335",
   "metadata": {},
   "outputs": [],
   "source": [
    "h1 = encrypt(m1*m2, r1+r2)\n",
    "h2 = m1_encrypted[0]*m2_encrypted[0] % p , m1_encrypted[1]*m2_encrypted[1] % p\n",
    "assert h1 == h2"
   ]
  },
  {
   "cell_type": "markdown",
   "id": "f475e64e",
   "metadata": {},
   "source": [
    "# neutral element"
   ]
  },
  {
   "cell_type": "code",
   "execution_count": 16,
   "id": "6f5701b4",
   "metadata": {},
   "outputs": [],
   "source": [
    "# restore keys\n",
    "\n",
    "# private key\n",
    "x=17\n",
    "\n",
    "# public key\n",
    "p=2083; g=7; y=739"
   ]
  },
  {
   "cell_type": "code",
   "execution_count": 17,
   "id": "7c519ee5",
   "metadata": {},
   "outputs": [],
   "source": [
    "m1 = 9\n",
    "r1 = random.randint(1, p-1)\n",
    "m1_encrypted = encrypt(m1, r1)\n",
    "\n",
    "m2 = 1\n",
    "r2 = random.randint(1, p-1)\n",
    "m2_encrypted = encrypt(m2, r2)\n",
    "\n",
    "m1_reencrypted = encrypt(m1*m2, r1+r2)"
   ]
  },
  {
   "cell_type": "code",
   "execution_count": 18,
   "id": "b014b88f",
   "metadata": {},
   "outputs": [],
   "source": [
    "assert m1_encrypted != m1_reencrypted\n",
    "\n",
    "assert (\n",
    "        decrypt(m1_encrypted[0], m1_encrypted[1]) \n",
    "        == \n",
    "        decrypt(m1_reencrypted[0], m1_reencrypted[1]) \n",
    ")"
   ]
  },
  {
   "cell_type": "markdown",
   "id": "90c7e246",
   "metadata": {},
   "source": [
    "# additively homomorphic features"
   ]
  },
  {
   "cell_type": "code",
   "execution_count": 19,
   "id": "46f1a973",
   "metadata": {},
   "outputs": [],
   "source": [
    "m1 = 9\n",
    "r1 = random.randint(1, p-1)\n",
    "m1_encrypted = encrypt(m1, r1, exponential = True)\n",
    "\n",
    "m2 = 11\n",
    "r2 = random.randint(1, p-1)\n",
    "m2_encrypted = encrypt(m2, r2, exponential = True)"
   ]
  },
  {
   "cell_type": "code",
   "execution_count": 20,
   "id": "1929e8be",
   "metadata": {},
   "outputs": [],
   "source": [
    "h1 = encrypt(m1+m2, r1+r2, exponential = True)\n",
    "h2 = m1_encrypted[0]*m2_encrypted[0] % p , m1_encrypted[1]*m2_encrypted[1] % p\n",
    "assert h1 == h2"
   ]
  }
 ],
 "metadata": {
  "kernelspec": {
   "display_name": "Python 3 (ipykernel)",
   "language": "python",
   "name": "python3"
  },
  "language_info": {
   "codemirror_mode": {
    "name": "ipython",
    "version": 3
   },
   "file_extension": ".py",
   "mimetype": "text/x-python",
   "name": "python",
   "nbconvert_exporter": "python",
   "pygments_lexer": "ipython3",
   "version": "3.8.12"
  }
 },
 "nbformat": 4,
 "nbformat_minor": 5
}
